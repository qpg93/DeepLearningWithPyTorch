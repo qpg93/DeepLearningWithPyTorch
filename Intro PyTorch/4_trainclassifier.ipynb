{
 "cells": [
  {
   "cell_type": "markdown",
   "metadata": {},
   "source": [
    "# Training a classifier\n",
    "\n",
    "### Data\n",
    "Generally, when we have to deal with image, text, audio or video data, we can use standard python packages that load data into a numpy array. Then we can convert this array into a __torch.*Tensor__.\n",
    "\n",
    "* For images, packages such as Pillow, OpenCV are useful\n",
    "* For audio, packages such as scipy and librosa\n",
    "* For text, either raw Python or Cython based loading, or NLTK and SpaCy are useful\n",
    "\n",
    "Specifically for vision, we have created a package called __torchvision__, that has data loaders for common datasets such as Imagenet, CIFAR10, MNIST, etc. and data transformers for images, viz., __torchvision.datasets__ and __torch.utils.data.DataLoader__.\n",
    "\n",
    "For this tutorial, we will use the __CIFAR10__ dataset. It has the classes: ‘airplane’, ‘automobile’, ‘bird’, ‘cat’, ‘deer’, ‘dog’, ‘frog’, ‘horse’, ‘ship’, ‘truck’. The images in CIFAR-10 are of size 3x32x32, i.e. 3-channel color images of 32x32 pixels in size.\n",
    "\n",
    "### Training an image classifier\n",
    "1. Load and normalizing the CIFAR10 training and test datasets using __torchvision__\n",
    "1. Define a Convolutional Neural Network\n",
    "1. Define a loss function\n",
    "1. Train the network on the training data\n",
    "1. Test the network on the test data\n",
    "\n",
    "#### 1. Loading and normalizing CIFAR10"
   ]
  },
  {
   "cell_type": "code",
   "execution_count": 1,
   "metadata": {},
   "outputs": [],
   "source": [
    "import torch\n",
    "import torchvision\n",
    "import torchvision.transforms as transforms"
   ]
  },
  {
   "cell_type": "code",
   "execution_count": null,
   "metadata": {},
   "outputs": [],
   "source": []
  }
 ],
 "metadata": {
  "kernelspec": {
   "display_name": "Python 3",
   "language": "python",
   "name": "python3"
  },
  "language_info": {
   "codemirror_mode": {
    "name": "ipython",
    "version": 3
   },
   "file_extension": ".py",
   "mimetype": "text/x-python",
   "name": "python",
   "nbconvert_exporter": "python",
   "pygments_lexer": "ipython3",
   "version": "3.7.6"
  }
 },
 "nbformat": 4,
 "nbformat_minor": 4
}
